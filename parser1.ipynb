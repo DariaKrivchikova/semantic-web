{
 "cells": [
  {
   "cell_type": "code",
   "execution_count": 61,
   "metadata": {},
   "outputs": [],
   "source": [
    "from xml.dom.minidom import parseString\n",
    "from bs4 import BeautifulSoup\n",
    "import pandas as pd\n",
    "from dicttoxml import dicttoxml\n",
    "import requests\n",
    "import re\n",
    "from pandas.io.json import json_normalize"
   ]
  },
  {
   "cell_type": "code",
   "execution_count": 62,
   "metadata": {},
   "outputs": [],
   "source": [
    "url = 'https://www.work.ua/jobs-it/?advs=1'\n",
    "\n",
    "r=requests.get(url).text\n",
    "soup=BeautifulSoup(r,'lxml')\n",
    "\n",
    "l=soup.find_all('div',class_='card card-hover card-visited wordwrap job-link js-hot-block')"
   ]
  },
  {
   "cell_type": "code",
   "execution_count": 63,
   "metadata": {},
   "outputs": [
    {
     "name": "stdout",
     "output_type": "stream",
     "text": [
      "['3872368', '1349263', '3872267', '3872265', '3872237', '3872138', '3872136', '3872054', '1226051', '3872003', '1443346', '1443346', '3871777', '1779920']\n"
     ]
    }
   ],
   "source": [
    "idd = list()\n",
    "for i in range(len(l)):\n",
    "    dd = re.search(r'\\d{7}', str(l[i]))\n",
    "    idd.append(dd[0])\n",
    "print(idd)\n",
    "def get_id(i):\n",
    "    d = re.search(r'\\d{7}', str(i))\n",
    "    return d[0]"
   ]
  },
  {
   "cell_type": "code",
   "execution_count": 74,
   "metadata": {},
   "outputs": [],
   "source": [
    "f=dict()\n",
    "def find_salary(i):\n",
    "    if i.find('div', class_=''):\n",
    "        if i.find('div').find('b'):\n",
    "            return(i.find('div').find('b').text.replace('\\xa0', ' ').replace('\\u202f', ''))\n",
    "    else:\n",
    "        return('none')\n",
    "def find_trusted(i):\n",
    "    if i.find('span', class_=\"nowrap\"):\n",
    "        return i.find('span', class_=\"nowrap\").text.replace('·', 'true')\n",
    "    else:\n",
    "        return('none')\n",
    "def find_center(i):\n",
    "    if i.find('span', class_='distance-block unclickable-inner-block border-dashed-grey'):\n",
    "        return i.find('span', class_='distance-block unclickable-inner-block border-dashed-grey').text.replace('\\xa0', ' ')\n",
    "    else:\n",
    "        return('none')\n",
    "def find_city():\n",
    "    if find_center(i) != 'none':\n",
    "        return i.find('div', class_='add-top-xs').find_all(\"span\")[-4].get_text().replace('\\xa0', ' ')\n",
    "    else:\n",
    "        return i.find('div', class_='add-top-xs').find_all(\"span\")[-1].get_text().replace('\\xa0', ' ')\n",
    "for i in l:\n",
    "    f['post id=\"' + get_id(i)+'\"']={ 'position':i.find('h2',class_='').text,\n",
    "                'salary':find_salary(i),\n",
    "                'company':i.find('div', class_='add-top-xs').find('b').text,\n",
    "                'trusted':find_trusted(i),\n",
    "                'city':find_city(),\n",
    "                'to_center':find_center(i),\n",
    "                'job_desription':i.find('p', class_='overflow text-muted add-top-sm add-bottom').text.replace('\\n                           ', '').replace('            ', '').replace('\\xa0', '').replace('\\u2060', ''),\n",
    "                'hot':i.find('span',class_='label label-hot').text }\n"
   ]
  },
  {
   "cell_type": "code",
   "execution_count": 76,
   "metadata": {},
   "outputs": [],
   "source": [
    "json_normalize(f)\n",
    "l=list()\n",
    "for i in list(f.values()):\n",
    "    l.append(json_normalize(i).values[0])\n",
    "    \n",
    "s=''\n",
    "for i in l:\n",
    "    for j in range(len(i)):\n",
    "        s += str(i[j]) + ' '\n",
    "    s+='\\n--------------------------\\n'\n",
    "    \n",
    "f1 = open('dict_to_text.txt','w',encoding='utf-8')\n",
    "try:\n",
    "    f1.write(s)\n",
    "finally:\n",
    "    f1.close()"
   ]
  },
  {
   "cell_type": "code",
   "execution_count": 77,
   "metadata": {},
   "outputs": [],
   "source": [
    "xml = dicttoxml(f, attr_type = False)\n",
    "doc = parseString(xml)\n",
    "doc.toprettyxml()\n",
    "ff = open(\"output.xml\", \"w\",encoding='utf-8')\n",
    "try:\n",
    "    ff.write(doc.toprettyxml(indent=\"  \").replace('<key name=\"post id=&quot;','<post id=\"').replace('&quot;','').replace('</key>','</post>'))\n",
    "finally:\n",
    "    ff.close()"
   ]
  },
  {
   "cell_type": "code",
   "execution_count": 75,
   "metadata": {},
   "outputs": [
    {
     "data": {
      "text/plain": [
       "{'post id=\"3872368\"': {'position': '\\nFull-stack developer (PHP and JS)\\n',\n",
       "  'salary': 'none',\n",
       "  'company': 'ПриватБанк',\n",
       "  'trusted': '  true',\n",
       "  'city': 'Дніпро',\n",
       "  'to_center': 'none',\n",
       "  'job_desription': '\\nПовна зайнятість. Досвід роботи від 1 року. Необхідні навички  практичний досвід розробки web додатків від року    базове розуміння принципів ООП…\\n',\n",
       "  'hot': 'Гаряча'},\n",
       " 'post id=\"1349263\"': {'position': '\\nМодератор\\n',\n",
       "  'salary': 'none',\n",
       "  'company': 'SocialTech',\n",
       "  'trusted': '  true',\n",
       "  'city': 'Київ',\n",
       "  'to_center': 'none',\n",
       "  'job_desription': '\\nПовна зайнятість. Досвід роботи від 1 року. SocialTech— глобальная IT-компания виндустрии Social Discovery. Мыразвиваем собственные продукты,…\\n',\n",
       "  'hot': 'Гаряча'},\n",
       " 'post id=\"3872267\"': {'position': '\\nSEO Project Manager\\n',\n",
       "  'salary': 'none',\n",
       "  'company': 'Darwin Global',\n",
       "  'trusted': '  true',\n",
       "  'city': 'Київ',\n",
       "  'to_center': '3,9 км від центру',\n",
       "  'job_desription': '\\nПовна зайнятість. Досвід роботи від 1 року. Darwin Global —Провайдер прозрачного SEO-сервиса. Мыможем профессионально настроить любую рекламу,…\\n',\n",
       "  'hot': 'Гаряча'},\n",
       " 'post id=\"3872265\"': {'position': '\\nIT-sales manager\\n',\n",
       "  'salary': '22000\\u2009–\\u2009100000 грн',\n",
       "  'company': 'Darwin Global',\n",
       "  'trusted': '  true',\n",
       "  'city': 'Київ',\n",
       "  'to_center': '3,9 км від центру',\n",
       "  'job_desription': '\\nПовна зайнятість. Досвід роботи від 2 років. Darwin Global— Провайдер прозрачного SEO-сервиса. Мыможем профессионально настроить любую рекламу,…\\n',\n",
       "  'hot': 'Гаряча'},\n",
       " 'post id=\"3872237\"': {'position': '\\nPPC-спеціаліст\\n',\n",
       "  'salary': None,\n",
       "  'company': 'Miraton, fashion market',\n",
       "  'trusted': '  true',\n",
       "  'city': 'Одеса',\n",
       "  'to_center': 'none',\n",
       "  'job_desription': '\\nПовна зайнятість. Досвід роботи від 2 років. Miraton • мережа мультибрендових fashion-маркетів взуття тааксесуарів анонсує про відкриття вакансії…\\n',\n",
       "  'hot': 'Гаряча'},\n",
       " 'post id=\"3872138\"': {'position': '\\nFull Stack Developer\\n',\n",
       "  'salary': 'none',\n",
       "  'company': 'DexDigital',\n",
       "  'trusted': 'none',\n",
       "  'city': 'Київ',\n",
       "  'to_center': '2,2 км від центру',\n",
       "  'job_desription': '\\nПовна зайнятість. Досвід роботи від 2 років. Ищем Full-Stack Developer, для которого важно создавать качественный продукт ивидеть результат своей…\\n',\n",
       "  'hot': 'Гаряча'},\n",
       " 'post id=\"3872136\"': {'position': '\\nSQL developer\\n',\n",
       "  'salary': 'none',\n",
       "  'company': 'World Sten',\n",
       "  'trusted': 'none',\n",
       "  'city': 'Київ',\n",
       "  'to_center': 'none',\n",
       "  'job_desription': '\\nПовна зайнятість. Досвід роботи від 2 років. Всвязи сувеличением количества проектов ищем вкоманду опытного SQL DevНеобходимые навыки:   Хорошие…\\n',\n",
       "  'hot': 'Гаряча'},\n",
       " 'post id=\"3872054\"': {'position': '\\nSMM-менеджер\\n',\n",
       "  'salary': '8000\\u2009–\\u200912000 грн',\n",
       "  'company': 'ТСГ Групп',\n",
       "  'trusted': '  true',\n",
       "  'city': 'Харків',\n",
       "  'to_center': '1,7 км від центру',\n",
       "  'job_desription': '\\nПовна зайнятість. Досвід роботи від 1 року. Вища освіта. ООО «ТСГ Групп» одиниз лидеров оптовых ирозничных продаж автомобильного стеклана украинском рынке. Нарынке…\\n',\n",
       "  'hot': 'Гаряча'},\n",
       " 'post id=\"1226051\"': {'position': '\\nОператор технической поддержки со знанием английского языка\\n',\n",
       "  'salary': 'none',\n",
       "  'company': 'Lime Devs',\n",
       "  'trusted': '  true',\n",
       "  'city': 'Київ',\n",
       "  'to_center': 'none',\n",
       "  'job_desription': '\\nПовна зайнятість. Кто нам нужен? Специалист, который будет внедрять, развивать иподдерживать высокие стандарты качества…\\n',\n",
       "  'hot': 'Гаряча'},\n",
       " 'post id=\"3872003\"': {'position': '\\nИТ-архитектор, Senior Enterprise Architect\\n',\n",
       "  'salary': 'none',\n",
       "  'company': 'Південний, акціонерний банк',\n",
       "  'trusted': '  true',\n",
       "  'city': 'Київ',\n",
       "  'to_center': 'none',\n",
       "  'job_desription': '\\nПовна зайнятість. Досвід роботи від 2 років. Обязанности: • Анализ архитектуры компании  • Разработка архитектуры создаваемой системы мобильного приложения…\\n',\n",
       "  'hot': 'Гаряча'},\n",
       " 'post id=\"1443346\"': {'position': '\\nМенеджер по продажам (IT-, IP-телефония)\\n',\n",
       "  'salary': '15000\\u2009–\\u200925000 грн',\n",
       "  'company': 'Nextel',\n",
       "  'trusted': '  true',\n",
       "  'city': 'Дніпро',\n",
       "  'to_center': 'none',\n",
       "  'job_desription': '\\nПовна зайнятість. Досвід роботи від 1 року. Всвязи срасширением штата, требуется менеджер попродажам.Условия работы: Оплачиваемый отпуск ибольничный;…\\n',\n",
       "  'hot': 'Гаряча'},\n",
       " 'post id=\"3871777\"': {'position': '\\nРуководитель интернет-магазина\\n',\n",
       "  'salary': 'none',\n",
       "  'company': 'Sanahunt',\n",
       "  'trusted': '  true',\n",
       "  'city': 'Київ',\n",
       "  'to_center': '0,6 км від центру',\n",
       "  'job_desription': '\\nПовна зайнятість. Досвід роботи від 2 років. Вища освіта. SANAHUNT LUXURY DEPARTMENT STORE— крупнейший мультибрендовый магазин— luxury department store вУкраине,…\\n',\n",
       "  'hot': 'Гаряча'},\n",
       " 'post id=\"1779920\"': {'position': '\\nEmail Marketing Manager\\n',\n",
       "  'salary': None,\n",
       "  'company': 'Headway',\n",
       "  'trusted': '  true',\n",
       "  'city': 'Київ',\n",
       "  'to_center': 'none',\n",
       "  'job_desription': '\\nПовна зайнятість. Досвід роботи від 2 років. HEADWAY Company isabranch ofthe holding group and isworking onits own cool project. Weare aproduct…\\n',\n",
       "  'hot': 'Гаряча'}}"
      ]
     },
     "execution_count": 75,
     "metadata": {},
     "output_type": "execute_result"
    }
   ],
   "source": [
    "f"
   ]
  },
  {
   "cell_type": "code",
   "execution_count": null,
   "metadata": {},
   "outputs": [],
   "source": []
  }
 ],
 "metadata": {
  "kernelspec": {
   "display_name": "Python 3",
   "language": "python",
   "name": "python3"
  },
  "language_info": {
   "codemirror_mode": {
    "name": "ipython",
    "version": 3
   },
   "file_extension": ".py",
   "mimetype": "text/x-python",
   "name": "python",
   "nbconvert_exporter": "python",
   "pygments_lexer": "ipython3",
   "version": "3.7.4"
  }
 },
 "nbformat": 4,
 "nbformat_minor": 2
}
